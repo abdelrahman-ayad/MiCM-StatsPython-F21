{
 "cells": [
  {
   "cell_type": "markdown",
   "metadata": {},
   "source": [
    "## Binomial distribution\n",
    "\n",
    "#### https://docs.scipy.org/doc/scipy/reference/generated/scipy.stats.binom.html\n",
    "\n",
    "#### Q1) For the random variable below that follows a binomial distribution corresponding to the given number of trials n, and probability of success p, find the probability of seeing x successes\n",
    "\n",
    "a) n = 12, p = 3/4, x = 10"
   ]
  },
  {
   "cell_type": "code",
   "execution_count": 45,
   "metadata": {},
   "outputs": [
    {
     "data": {
      "text/plain": [
       "0.23229324817657435"
      ]
     },
     "execution_count": 45,
     "metadata": {},
     "output_type": "execute_result"
    }
   ],
   "source": [
    "from scipy.stats import binom\n",
    "\n",
    "n = 12\n",
    "p = 0.75\n",
    "x = 10\n",
    "mean, var = binom.stats(n, p)\n",
    "binom.pmf(x, n, p)"
   ]
  },
  {
   "cell_type": "markdown",
   "metadata": {},
   "source": [
    "#### Q2) Is it unusual to see less than 3 heads in 12 flips of a coin? Why?"
   ]
  },
  {
   "cell_type": "code",
   "execution_count": 46,
   "metadata": {},
   "outputs": [
    {
     "data": {
      "text/plain": [
       "0.019287109375000007"
      ]
     },
     "execution_count": 46,
     "metadata": {},
     "output_type": "execute_result"
    }
   ],
   "source": [
    "n = 12\n",
    "p = 0.5\n",
    "n_heads = 2\n",
    "binom.cdf(n_heads, n, p)"
   ]
  },
  {
   "cell_type": "markdown",
   "metadata": {},
   "source": [
    "## Poisson distribution\n",
    "\n",
    "A DVD has a defect on average every 2 inches along its track. What is the probability of seeing less than 3 defects within a 5 inch section of its track?\n"
   ]
  },
  {
   "cell_type": "code",
   "execution_count": 47,
   "metadata": {},
   "outputs": [
    {
     "data": {
      "text/plain": [
       "0.5438131158833297"
      ]
     },
     "execution_count": 47,
     "metadata": {},
     "output_type": "execute_result"
    }
   ],
   "source": [
    "from scipy.stats import poisson\n",
    "lam = 5/2\n",
    "poisson.cdf(2,lam)"
   ]
  },
  {
   "cell_type": "markdown",
   "metadata": {},
   "source": [
    "## Histograms"
   ]
  },
  {
   "cell_type": "code",
   "execution_count": 49,
   "metadata": {},
   "outputs": [
    {
     "data": {
      "image/png": "[encoded data removed]",
      "text/plain": [
       "<Figure size 640x480 with 1 Axes>"
      ]
     },
     "metadata": {},
     "output_type": "display_data"
    }
   ],
   "source": [
    "import numpy as np\n",
    "import matplotlib.pyplot as plt\n",
    "x1 = np.random.normal(0, 0.8, 1000)\n",
    "x2 = np.random.normal(-2, 1, 1000)\n",
    "x3 = np.random.normal(3, 2, 1000)\n",
    "\n",
    "kwargs = dict(histtype='stepfilled', alpha=0.7, density=True, bins=20)\n",
    "\n",
    "plt.hist(x1, **kwargs)\n",
    "plt.hist(x2, **kwargs)\n",
    "plt.hist(x3, **kwargs)\n",
    "plt.show()"
   ]
  },
  {
   "cell_type": "markdown",
   "metadata": {},
   "source": [
    "####  The average salary for first-year teachers is 27,989 USD. Assume the distribution is approximately normal with standard deviation 3250 USD.\n",
    "\n",
    "What is the probability that a randomly selected first-year teacher has a salary less than 20,000 USD?\n",
    "\n",
    "What is the probability that a randomly selected first-year teacher makes between 20,000 USD and 30,000 USD each year?\n",
    "\n"
   ]
  },
  {
   "cell_type": "code",
   "execution_count": 50,
   "metadata": {},
   "outputs": [
    {
     "name": "stdout",
     "output_type": "stream",
     "text": [
      "0.5\n",
      "0.006982666701149653\n"
     ]
    }
   ],
   "source": [
    "import scipy.stats as st\n",
    "\n",
    "mu, std = 27989, 3250\n",
    "\n",
    "std_normal_2 = (20000-mu)/std \n",
    "\n",
    "print(st.norm.cdf(0))\n",
    "print(st.norm.cdf(std_normal_2))\n"
   ]
  },
  {
   "cell_type": "code",
   "execution_count": 51,
   "metadata": {},
   "outputs": [
    {
     "name": "stdout",
     "output_type": "stream",
     "text": [
      "0.7249831358225932\n"
     ]
    }
   ],
   "source": [
    "std_normal_3 = (30000-mu)/std \n",
    "\n",
    "prob_2_3 = st.norm.cdf(std_normal_3) - st.norm.cdf(std_normal_2)\n",
    "print(prob_2_3)"
   ]
  },
  {
   "cell_type": "markdown",
   "metadata": {},
   "source": [
    "### Men's heights are normally distributed with a mean of 69.0 inches and a standard deviation of 2.8 inches, while women's heights are normally distributed with a mean of 63.6 inches and a standard deviation of 2.5 inches."
   ]
  },
  {
   "cell_type": "markdown",
   "metadata": {},
   "source": [
    "1- What percentage of men must duck when walking through a door that is 72 inches high?\n",
    "\n",
    "2- What percentage of women must duck when walking through a door that is 72 inches high?\n",
    "\n",
    "3- What door height would allow at least 95% of men to walk through the door without ducking?"
   ]
  },
  {
   "cell_type": "code",
   "execution_count": 52,
   "metadata": {},
   "outputs": [
    {
     "name": "stdout",
     "output_type": "stream",
     "text": [
      "0.1419883858754558\n",
      "0.0003897123625820065\n"
     ]
    }
   ],
   "source": [
    "mu_men, std_men = 69, 2.8\n",
    "mu_women, std_women = 63.6, 2.5\n",
    "\n",
    "print(1- st.norm.cdf((72-mu_men)/std_men))\n",
    "print(1- st.norm.cdf((72-mu_women)/std_women))\n"
   ]
  },
  {
   "cell_type": "code",
   "execution_count": 53,
   "metadata": {},
   "outputs": [
    {
     "name": "stdout",
     "output_type": "stream",
     "text": [
      "1.6448536269514722\n",
      "73.60559015546413\n"
     ]
    }
   ],
   "source": [
    "prob_95 = st.norm.ppf(0.95)\n",
    "print(prob_95)\n",
    "door_height = prob_95 * std_men + mu_men\n",
    "print(door_height)"
   ]
  },
  {
   "cell_type": "code",
   "execution_count": null,
   "metadata": {},
   "outputs": [],
   "source": []
  }
 ],
 "metadata": {
  "kernelspec": {
   "display_name": "Python 3",
   "language": "python",
   "name": "python3"
  },
  "language_info": {
   "codemirror_mode": {
    "name": "ipython",
    "version": 3
   },
   "file_extension": ".py",
   "mimetype": "text/x-python",
   "name": "python",
   "nbconvert_exporter": "python",
   "pygments_lexer": "ipython3",
   "version": "3.7.7"
  }
 },
 "nbformat": 4,
 "nbformat_minor": 4
}
