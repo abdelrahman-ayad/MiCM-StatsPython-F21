{
 "cells": [
  {
   "cell_type": "markdown",
   "metadata": {},
   "source": [
    "## Binomial distribution\n",
    "\n",
    "#### https://docs.scipy.org/doc/scipy/reference/generated/scipy.stats.binom.html\n",
    "\n",
    "#### Q1) For the random variable below that follows a binomial distribution corresponding to the given number of trials n, and probability of success p, find the probability of seeing x successes\n",
    "\n",
    "a) n = 12, p = 3/4, x = 10"
   ]
  },
  {
   "cell_type": "code",
   "execution_count": null,
   "metadata": {},
   "outputs": [],
   "source": [
    "from scipy.stats import binom\n",
    "import numpy as np\n",
    "np.random.seed(42)\n",
    "n = 12\n",
    "p = 0.75\n",
    "x = 10\n",
    "mean, var = binom.stats(n, p)\n",
    "binom.pmf(x, n, p)"
   ]
  },
  {
   "cell_type": "markdown",
   "metadata": {},
   "source": [
    "#### Q2) Is it unusual to see less than 3 heads in 12 flips of a coin? Why?"
   ]
  },
  {
   "cell_type": "code",
   "execution_count": null,
   "metadata": {},
   "outputs": [],
   "source": [
    "n = 12\n",
    "p = 0.5\n",
    "n_heads = 2\n",
    "binom.cdf(n_heads, n, p)"
   ]
  },
  {
   "cell_type": "markdown",
   "metadata": {},
   "source": [
    "## Poisson distribution\n",
    "\n",
    "A DVD has a defect on average every 2 inches along its track. What is the probability of seeing less than 3 defects within a 5 inch section of its track?\n"
   ]
  },
  {
   "cell_type": "code",
   "execution_count": null,
   "metadata": {},
   "outputs": [],
   "source": [
    "from scipy.stats import poisson\n",
    "lam = 5/2\n",
    "poisson.cdf(2,lam)"
   ]
  },
  {
   "cell_type": "markdown",
   "metadata": {},
   "source": [
    "## Histograms"
   ]
  },
  {
   "cell_type": "code",
   "execution_count": null,
   "metadata": {},
   "outputs": [],
   "source": [
    "import numpy as np\n",
    "import matplotlib.pyplot as plt\n",
    "x1 = np.random.normal(0, 0.8, 1000)\n",
    "x2 = np.random.normal(-2, 1, 1000)\n",
    "x3 = np.random.normal(3, 2, 1000)\n",
    "\n",
    "kwargs = dict(histtype='stepfilled', alpha=0.7, density=True, bins=20)\n",
    "\n",
    "plt.hist(x1, **kwargs)\n",
    "plt.hist(x2, **kwargs)\n",
    "plt.hist(x3, **kwargs)\n",
    "plt.show()"
   ]
  },
  {
   "cell_type": "markdown",
   "metadata": {},
   "source": [
    "####  The average salary for first-year teachers is 27,989 USD. Assume the distribution is approximately normal with standard deviation 3250 USD.\n",
    "\n",
    "What is the probability that a randomly selected first-year teacher has a salary less than 20,000 USD?\n",
    "\n",
    "What is the probability that a randomly selected first-year teacher makes between 20,000 USD and 30,000 USD each year?\n",
    "\n"
   ]
  },
  {
   "cell_type": "code",
   "execution_count": null,
   "metadata": {},
   "outputs": [],
   "source": [
    "import scipy.stats as st\n",
    "\n",
    "mu, std = 27989, 3250\n",
    "\n",
    "std_normal_2 = (20000-mu)/std \n",
    "\n",
    "print(st.norm.cdf(0))\n",
    "print(st.norm.cdf(std_normal_2))\n"
   ]
  },
  {
   "cell_type": "code",
   "execution_count": null,
   "metadata": {},
   "outputs": [],
   "source": [
    "std_normal_3 = (30000-mu)/std \n",
    "\n",
    "prob_2_3 = st.norm.cdf(std_normal_3) - st.norm.cdf(std_normal_2)\n",
    "print(prob_2_3)"
   ]
  },
  {
   "cell_type": "markdown",
   "metadata": {},
   "source": [
    "### Men's heights are normally distributed with a mean of 69.0 inches and a standard deviation of 2.8 inches, while women's heights are normally distributed with a mean of 63.6 inches and a standard deviation of 2.5 inches."
   ]
  },
  {
   "cell_type": "markdown",
   "metadata": {},
   "source": [
    "1- What percentage of men must duck when walking through a door that is 72 inches high?\n",
    "\n",
    "2- What percentage of women must duck when walking through a door that is 72 inches high?\n",
    "\n",
    "3- What door height would allow at least 95% of men to walk through the door without ducking?"
   ]
  },
  {
   "cell_type": "code",
   "execution_count": null,
   "metadata": {},
   "outputs": [],
   "source": [
    "mu_men, std_men = 69, 2.8\n",
    "mu_women, std_women = 63.6, 2.5\n",
    "\n",
    "print(1- st.norm.cdf((72-mu_men)/std_men))\n",
    "print(1- st.norm.cdf((72-mu_women)/std_women))\n"
   ]
  },
  {
   "cell_type": "code",
   "execution_count": null,
   "metadata": {},
   "outputs": [],
   "source": [
    "prob_95 = st.norm.ppf(0.95)\n",
    "print(prob_95)\n",
    "door_height = prob_95 * std_men + mu_men\n",
    "print(door_height)"
   ]
  },
  {
   "cell_type": "markdown",
   "metadata": {},
   "source": [
    "# Linear Regression\n",
    "\n",
    "## Given two variables $\\textit{x}$ and $\\textit{y}$, we want to test if there is a linear relationship. In other terms, we want to test if we can describe the relation between the variables can be described by: \n",
    "\n",
    "## $y = mx + b + e$\n",
    "## where $m$ is the coefficient, $b$ is the intercept term, and $e$ is the noise. "
   ]
  },
  {
   "cell_type": "code",
   "execution_count": null,
   "metadata": {},
   "outputs": [],
   "source": [
    "import pandas as pd\n",
    "import matplotlib.pyplot as plt\n",
    "# Generate two random variables, same size\n",
    "x1 = 50 * np.random.random_sample(size = 50)\n",
    "y1 = 50 * np.random.random_sample(size = 50)\n",
    "# Store variables in a dataframe\n",
    "data1 = pd.DataFrame({'x':x1, 'y':y1})\n",
    "\n",
    "# Plot the dataset\n",
    "data1.plot.scatter(x = 'x', y = 'y')\n",
    "plt.show()"
   ]
  },
  {
   "cell_type": "code",
   "execution_count": null,
   "metadata": {},
   "outputs": [],
   "source": [
    "#Generate two related variables\n",
    "x2 = np.linspace(-50, 50, 100)\n",
    "y2 = -8 + 3*x2 + 5*np.random.normal(size = x2.shape)\n",
    "# Store variables in a dataframe\n",
    "data2 = pd.DataFrame({'x':x2, 'y':y2})\n",
    "\n",
    "# Plot the dataset\n",
    "data2.plot.scatter(x = 'x', y = 'y')\n",
    "plt.show()"
   ]
  },
  {
   "cell_type": "markdown",
   "metadata": {},
   "source": [
    "## Use OLS by Statsmodel to find the coefficients\n"
   ]
  },
  {
   "cell_type": "code",
   "execution_count": null,
   "metadata": {},
   "outputs": [],
   "source": [
    "import statsmodels.api as sm\n",
    "x2 = sm.add_constant(x2)\n",
    "\n",
    "results = sm.OLS(y2, x2).fit()\n",
    "\n",
    "print(results.summary())\n",
    "results.params"
   ]
  },
  {
   "cell_type": "code",
   "execution_count": null,
   "metadata": {},
   "outputs": [],
   "source": [
    "b_hat, m_hat = results.params\n",
    "y_hat = m_hat * x2 + b_hat\n",
    "data2.plot.scatter(x = 'x', y = 'y')\n",
    "plt.plot(x2, y_hat)\n",
    "plt.show()"
   ]
  },
  {
   "cell_type": "markdown",
   "metadata": {},
   "source": [
    "### Linear regression using scikit-learn library\n",
    "https://scikit-learn.org/stable/modules/linear_model.html#ordinary-least-squares"
   ]
  },
  {
   "cell_type": "code",
   "execution_count": null,
   "metadata": {},
   "outputs": [],
   "source": [
    "from sklearn import linear_model\n",
    "x2 = np.linspace(-50, 50, 100)\n",
    "y2 = -8 + 3*x2 + 5*np.random.normal(size = x2.shape)\n",
    "reg = linear_model.LinearRegression()\n",
    "reg.fit(x2, y2)"
   ]
  },
  {
   "cell_type": "code",
   "execution_count": null,
   "metadata": {},
   "outputs": [],
   "source": [
    "x2 = x2.reshape(-1,1)\n",
    "y2 = y2.reshape(-1,1)\n",
    "print(x2.shape, y2.shape)\n",
    "reg.fit(x2, y2)\n",
    "print(reg.intercept_, reg.coef_)"
   ]
  },
  {
   "cell_type": "markdown",
   "metadata": {},
   "source": [
    "### Curve fitting\n"
   ]
  },
  {
   "cell_type": "code",
   "execution_count": null,
   "metadata": {},
   "outputs": [],
   "source": [
    "# Generate artificial data plus some noise.\n",
    "\n",
    "xdata = np.array([0.0,1.0,2.0,3.0,4.0,5.0])\n",
    "ydata = np.array([0.1,0.9,2.2,2.8,3.9,5.1])\n",
    "# Initial guess.\n",
    "x0    = np.array([0.0, 0.0, 0.0])\n",
    "sigma = np.array([1.0,1.0,1.0,1.0,1.0,1.0])\n",
    "plt.scatter(xdata, ydata+sigma)\n",
    "plt.show()"
   ]
  },
  {
   "cell_type": "code",
   "execution_count": null,
   "metadata": {},
   "outputs": [],
   "source": [
    "# Let's fit to a second degree function\n",
    "import scipy.optimize as optimization\n",
    "def func(x, a, b, c):\n",
    "    return a + b*x + c*x*x\n",
    "\n",
    "x0    = np.array([0.0, 0.0, 0.0])\n",
    "print (optimization.curve_fit(func, xdata, ydata, x0, sigma))\n"
   ]
  },
  {
   "cell_type": "markdown",
   "metadata": {},
   "source": [
    "What is the return of the function?\n",
    "Check: \n",
    "https://docs.scipy.org/doc/scipy/reference/generated/scipy.optimize.curve_fit.html\n"
   ]
  },
  {
   "cell_type": "code",
   "execution_count": null,
   "metadata": {},
   "outputs": [],
   "source": [
    "paramaeter_estimates,_ = optimization.curve_fit(func, xdata, ydata, x0, sigma)\n",
    "print(paramaeter_estimates)"
   ]
  },
  {
   "cell_type": "code",
   "execution_count": null,
   "metadata": {},
   "outputs": [],
   "source": []
  }
 ],
 "metadata": {
  "kernelspec": {
   "display_name": "Python 3",
   "language": "python",
   "name": "python3"
  },
  "language_info": {
   "codemirror_mode": {
    "name": "ipython",
    "version": 3
   },
   "file_extension": ".py",
   "mimetype": "text/x-python",
   "name": "python",
   "nbconvert_exporter": "python",
   "pygments_lexer": "ipython3",
   "version": "3.7.7"
  }
 },
 "nbformat": 4,
 "nbformat_minor": 4
}
