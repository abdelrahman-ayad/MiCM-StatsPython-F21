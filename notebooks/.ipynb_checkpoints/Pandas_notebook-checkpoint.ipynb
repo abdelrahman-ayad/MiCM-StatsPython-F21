{
 "cells": [
  {
   "cell_type": "code",
   "execution_count": 2,
   "metadata": {},
   "outputs": [
    {
     "name": "stderr",
     "output_type": "stream",
     "text": [
      "b'Skipping line 109: expected 1 fields, saw 2\\nSkipping line 128: expected 1 fields, saw 352\\nSkipping line 129: expected 1 fields, saw 2\\nSkipping line 144: expected 1 fields, saw 3\\nSkipping line 196: expected 1 fields, saw 3\\nSkipping line 210: expected 1 fields, saw 6\\nSkipping line 247: expected 1 fields, saw 4\\nSkipping line 251: expected 1 fields, saw 2\\nSkipping line 268: expected 1 fields, saw 2\\nSkipping line 269: expected 1 fields, saw 2\\nSkipping line 275: expected 1 fields, saw 2\\nSkipping line 278: expected 1 fields, saw 2\\nSkipping line 286: expected 1 fields, saw 4\\nSkipping line 292: expected 1 fields, saw 2\\nSkipping line 297: expected 1 fields, saw 2\\nSkipping line 298: expected 1 fields, saw 2\\nSkipping line 299: expected 1 fields, saw 2\\nSkipping line 300: expected 1 fields, saw 2\\nSkipping line 301: expected 1 fields, saw 2\\nSkipping line 307: expected 1 fields, saw 2\\nSkipping line 308: expected 1 fields, saw 2\\nSkipping line 309: expected 1 fields, saw 2\\nSkipping line 310: expected 1 fields, saw 2\\nSkipping line 317: expected 1 fields, saw 2\\nSkipping line 325: expected 1 fields, saw 4\\nSkipping line 330: expected 1 fields, saw 2\\nSkipping line 333: expected 1 fields, saw 2\\nSkipping line 334: expected 1 fields, saw 2\\nSkipping line 338: expected 1 fields, saw 2\\nSkipping line 359: expected 1 fields, saw 2\\nSkipping line 558: expected 1 fields, saw 6\\nSkipping line 559: expected 1 fields, saw 3\\nSkipping line 566: expected 1 fields, saw 6\\nSkipping line 567: expected 1 fields, saw 6\\nSkipping line 656: expected 1 fields, saw 6\\nSkipping line 665: expected 1 fields, saw 6\\nSkipping line 680: expected 1 fields, saw 6\\nSkipping line 704: expected 1 fields, saw 3\\nSkipping line 715: expected 1 fields, saw 3\\nSkipping line 726: expected 1 fields, saw 3\\nSkipping line 737: expected 1 fields, saw 3\\nSkipping line 748: expected 1 fields, saw 3\\nSkipping line 759: expected 1 fields, saw 3\\nSkipping line 770: expected 1 fields, saw 3\\nSkipping line 781: expected 1 fields, saw 3\\nSkipping line 1037: expected 1 fields, saw 7\\nSkipping line 1131: expected 1 fields, saw 2\\nSkipping line 1134: expected 1 fields, saw 2\\nSkipping line 1167: expected 1 fields, saw 2\\nSkipping line 1169: expected 1 fields, saw 2\\nSkipping line 3698: expected 1 fields, saw 2\\nSkipping line 3699: expected 1 fields, saw 6\\nSkipping line 3700: expected 1 fields, saw 6\\nSkipping line 3701: expected 1 fields, saw 6\\nSkipping line 3702: expected 1 fields, saw 6\\nSkipping line 3703: expected 1 fields, saw 3\\nSkipping line 3712: expected 1 fields, saw 6\\nSkipping line 3713: expected 1 fields, saw 6\\nSkipping line 3714: expected 1 fields, saw 6\\nSkipping line 3715: expected 1 fields, saw 6\\nSkipping line 3716: expected 1 fields, saw 6\\nSkipping line 3717: expected 1 fields, saw 3\\n'\n"
     ]
    }
   ],
   "source": [
    "tips_data_file = 'https://github.com/abdelrahman-ayad/MiCM-StatsPython-F21/blob/main/data/tips.csv'\n",
    "import pandas as pd\n",
    "tips_data = pd.read_csv(tips_data_file, error_bad_lines=False)"
   ]
  },
  {
   "cell_type": "code",
   "execution_count": null,
   "metadata": {},
   "outputs": [],
   "source": []
  }
 ],
 "metadata": {
  "kernelspec": {
   "display_name": "Python 3",
   "language": "python",
   "name": "python3"
  },
  "language_info": {
   "codemirror_mode": {
    "name": "ipython",
    "version": 3
   },
   "file_extension": ".py",
   "mimetype": "text/x-python",
   "name": "python",
   "nbconvert_exporter": "python",
   "pygments_lexer": "ipython3",
   "version": "3.7.7"
  }
 },
 "nbformat": 4,
 "nbformat_minor": 4
}
